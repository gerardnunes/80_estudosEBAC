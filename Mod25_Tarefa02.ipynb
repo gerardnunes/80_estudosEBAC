{
 "cells": [
  {
   "cell_type": "markdown",
   "metadata": {},
   "source": [
    "# Cálculo - Tarefa 02\n",
    "\n",
    "1- Calcule de forma numérica a integral da função $x^3$ avaliada entre os pontos $1$ e $2$. Identifique o número de retângulos que você usou.  \n",
    "2- Calcule essa área de forma analítica."
   ]
  },
  {
   "cell_type": "code",
   "execution_count": 2,
   "metadata": {},
   "outputs": [
    {
     "name": "stdout",
     "output_type": "stream",
     "text": [
      "Área numérica com 100 retângulos: 3.715075\n",
      "Área analítica: 3.750000\n"
     ]
    }
   ],
   "source": [
    "import numpy as np\n",
    "from scipy.integrate import quad\n",
    "import sympy as sp\n",
    "\n",
    "def f(x):\n",
    "    return x**3  # f(x) = x³\n",
    "\n",
    "\n",
    "a = 1  \n",
    "b = 2  \n",
    "\n",
    "n = 100\n",
    "\n",
    "x_vals = np.linspace(a, b, n + 1)  \n",
    "dx = (b - a) / n  \n",
    "area_numerica = sum(f(x_vals[i]) * dx for i in range(n))  # Soma retângulos\n",
    "print(f\"Área numérica com {n} retângulos: {area_numerica:.6f}\")\n",
    "\n",
    "\n",
    "x = sp.Symbol('x')  \n",
    "f_sym = x**3  # f(x) = x³\n",
    "area_analitica = sp.integrate(f_sym, (x, a, b))  \n",
    "print(f\"Área analítica: {float(area_analitica):.6f}\")\n",
    "\n"
   ]
  },
  {
   "cell_type": "code",
   "execution_count": null,
   "metadata": {},
   "outputs": [],
   "source": []
  },
  {
   "cell_type": "code",
   "execution_count": null,
   "metadata": {},
   "outputs": [],
   "source": []
  }
 ],
 "metadata": {
  "kernelspec": {
   "display_name": "Python 3 (ipykernel)",
   "language": "python",
   "name": "python3"
  },
  "language_info": {
   "codemirror_mode": {
    "name": "ipython",
    "version": 3
   },
   "file_extension": ".py",
   "mimetype": "text/x-python",
   "name": "python",
   "nbconvert_exporter": "python",
   "pygments_lexer": "ipython3",
   "version": "3.12.4"
  },
  "toc": {
   "base_numbering": 1,
   "nav_menu": {},
   "number_sections": true,
   "sideBar": true,
   "skip_h1_title": true,
   "title_cell": "Índice",
   "title_sidebar": "Conteúdo",
   "toc_cell": false,
   "toc_position": {},
   "toc_section_display": true,
   "toc_window_display": false
  },
  "varInspector": {
   "cols": {
    "lenName": 16,
    "lenType": 16,
    "lenVar": 40
   },
   "kernels_config": {
    "python": {
     "delete_cmd_postfix": "",
     "delete_cmd_prefix": "del ",
     "library": "var_list.py",
     "varRefreshCmd": "print(var_dic_list())"
    },
    "r": {
     "delete_cmd_postfix": ") ",
     "delete_cmd_prefix": "rm(",
     "library": "var_list.r",
     "varRefreshCmd": "cat(var_dic_list()) "
    }
   },
   "types_to_exclude": [
    "module",
    "function",
    "builtin_function_or_method",
    "instance",
    "_Feature"
   ],
   "window_display": false
  }
 },
 "nbformat": 4,
 "nbformat_minor": 4
}
