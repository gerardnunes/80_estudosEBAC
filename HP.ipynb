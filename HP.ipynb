{
 "cells": [
  {
   "cell_type": "markdown",
   "id": "d5944832-fe74-4cff-9ea3-f0d3c6224cc5",
   "metadata": {},
   "source": [
    "# Hiperparametros."
   ]
  },
  {
   "cell_type": "markdown",
   "id": "644ac0ae-390d-48c2-b916-56a5ce308b4f",
   "metadata": {},
   "source": [
    "| **Hiperparâmetro**         | **Descrição**                                                                                   | **Finalidade**                                                                                 |\n",
    "|----------------------------|------------------------------------------------------------------------------------------------|-----------------------------------------------------------------------------------------------|\n",
    "| `n_estimators`             | Número de árvores na floresta.                                                                | Controla o tamanho do ensemble; mais árvores podem aumentar a precisão, mas custam mais tempo de treinamento. |\n",
    "| `max_features`             | Número máximo de atributos considerados em cada divisão de nó.                                | Introduz variabilidade nas árvores e evita correlação entre elas, melhorando a generalização. |\n",
    "| `max_depth`                | Profundidade máxima de cada árvore.                                                           | Limita o crescimento das árvores, reduzindo o overfitting e melhorando o desempenho em conjuntos pequenos. |\n",
    "| `min_samples_split`        | Número mínimo de amostras necessárias para dividir um nó.                                     | Controla o crescimento da árvore; valores maiores evitam divisões muito pequenas e overfitting. |\n",
    "| `min_samples_leaf`         | Número mínimo de amostras exigidas em cada folha.                                             | Garante que folhas tenham um tamanho mínimo, reduzindo o risco de overfitting.                |\n",
    "| `bootstrap`                | Indica se o modelo deve usar amostragem com reposição (bootstrap).                            | Introduz variabilidade nos dados de treinamento para cada árvore, melhorando a robustez.      |\n",
    "| `random_state`             | Semente para geração de números aleatórios.                                                   | Garante reprodutibilidade dos resultados ao fixar a aleatoriedade.                           |\n",
    "| `criterion`                | Função usada para medir a qualidade das divisões (ex.: `gini` ou `entropy` para classificação).| Define como as árvores avaliam a melhor divisão em cada nó.                                   |\n",
    "| `max_leaf_nodes`           | Número máximo de folhas permitidas na árvore.                                                 | Restringe o número de folhas para evitar complexidade excessiva e overfitting.               |\n",
    "| `oob_score`                | Habilita a estimativa do desempenho fora da amostra usando dados não amostrados (out-of-bag). | Fornece uma validação interna do modelo sem a necessidade de um conjunto de validação separado. |\n",
    "| `n_jobs`                   | Número de processadores a serem usados no treinamento.                                        | Controla o uso de recursos computacionais; `-1` utiliza todos os núcleos disponíveis.         |\n",
    "| `verbose`                  | Nível de detalhamento durante o treinamento.                                                  | Permite monitorar o progresso do treinamento, especialmente para grandes datasets.            |\n"
   ]
  },
  {
   "cell_type": "code",
   "execution_count": null,
   "id": "ba4343c1-ec9d-48c7-9f74-9b56d60f0fca",
   "metadata": {},
   "outputs": [],
   "source": []
  }
 ],
 "metadata": {
  "kernelspec": {
   "display_name": "Python 3 (ipykernel)",
   "language": "python",
   "name": "python3"
  },
  "language_info": {
   "codemirror_mode": {
    "name": "ipython",
    "version": 3
   },
   "file_extension": ".py",
   "mimetype": "text/x-python",
   "name": "python",
   "nbconvert_exporter": "python",
   "pygments_lexer": "ipython3",
   "version": "3.12.4"
  }
 },
 "nbformat": 4,
 "nbformat_minor": 5
}
