{
 "cells": [
  {
   "cell_type": "markdown",
   "id": "e68dcac1-39af-4521-ad6a-3fac8d506879",
   "metadata": {},
   "source": [
    "# Fórmula de Bhaskara"
   ]
  },
  {
   "cell_type": "markdown",
   "id": "2ad13644-09ac-43fb-9dfb-4f2701aa827e",
   "metadata": {},
   "source": [
    " A solução para uma função de segundo grau depende das suas raizes (valores de x). Como ja vimos, os coeficientes precisam de ser numeros reais e o angular diferente de zero. Sendo assim, temos a seguinte formula de Bhaskara:"
   ]
  },
  {
   "cell_type": "markdown",
   "id": "e36f7479-b718-4ffe-be70-a7cc1959af93",
   "metadata": {},
   "source": [
    "\n",
    "$$\n",
    "x = \\frac{-b \\pm \\sqrt{b^2 - 4ac}}{2a}\n",
    "$$\n",
    "\n"
   ]
  },
  {
   "cell_type": "markdown",
   "id": "24a0b4bf-3d63-4622-bdb0-68b2752f1a78",
   "metadata": {},
   "source": [
    "*Formula de bhaskara*"
   ]
  },
  {
   "cell_type": "markdown",
   "id": "cd522b99-a44a-45f9-9b33-2e76694184f8",
   "metadata": {},
   "source": [
    "Para melhor compreesão o seu calculo é dividido em duas partes, discriminante da equação e operações para determinar as raizes."
   ]
  },
  {
   "cell_type": "markdown",
   "id": "8841dab8-3fa2-4097-b33f-96d9985e5939",
   "metadata": {},
   "source": [
    "**Discriminante**"
   ]
  },
  {
   "cell_type": "markdown",
   "id": "77ce5fc0-1b8f-415b-88e2-4930560cb502",
   "metadata": {},
   "source": [
    "A figura dentro da raiz na Formula de bhaskara é nomeado de discriminante. Seu simbolo é a letra grega delta e apresenta a determinada formula:"
   ]
  },
  {
   "cell_type": "markdown",
   "id": "33d6bd28-dbd6-46ea-96f4-8f463b8e50d8",
   "metadata": {},
   "source": [
    "$$\n",
    "\\Delta = b^2 - 4ac\n",
    "$$"
   ]
  },
  {
   "cell_type": "markdown",
   "id": "64a2e292-2fc0-49d3-a513-407dfd9c3a02",
   "metadata": {},
   "source": [
    "*Formula discriminante*"
   ]
  },
  {
   "cell_type": "markdown",
   "id": "f1eff034-e1c2-47d0-8193-97533d54d65c",
   "metadata": {},
   "source": [
    "- Se o delta for maior que zero, a equação terá dois valores reais e distintos.\n",
    "- Se o delta for igual a zero, a equação tera somente um valor real ou dois resultados iguais.\n",
    "- Se o delta for menor que zero, a equação nao possuirá valores reais"
   ]
  },
  {
   "cell_type": "code",
   "execution_count": null,
   "id": "7348a806-5482-40cf-acca-1333a851dff9",
   "metadata": {},
   "outputs": [],
   "source": []
  }
 ],
 "metadata": {
  "kernelspec": {
   "display_name": "Python 3 (ipykernel)",
   "language": "python",
   "name": "python3"
  },
  "language_info": {
   "codemirror_mode": {
    "name": "ipython",
    "version": 3
   },
   "file_extension": ".py",
   "mimetype": "text/x-python",
   "name": "python",
   "nbconvert_exporter": "python",
   "pygments_lexer": "ipython3",
   "version": "3.12.4"
  }
 },
 "nbformat": 4,
 "nbformat_minor": 5
}
