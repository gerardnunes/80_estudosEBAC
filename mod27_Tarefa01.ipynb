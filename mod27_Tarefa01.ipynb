{
 "cells": [
  {
   "cell_type": "markdown",
   "metadata": {},
   "source": [
    "![Cabec%CC%A7alho_notebook.png](cabecalho_notebook.png)"
   ]
  },
  {
   "cell_type": "markdown",
   "metadata": {},
   "source": [
    "# PCA - Tarefa 01: *HAR* com PCA\n",
    "\n",
    "Vamos trabalhar com a base da demonstração feita em aula, mas vamos explorar um pouco melhor como é o desempenho da árvore variando o número de componentes principais."
   ]
  },
  {
   "cell_type": "code",
   "execution_count": 28,
   "metadata": {},
   "outputs": [],
   "source": [
    "import pandas as pd\n",
    "\n",
    "from sklearn.tree import DecisionTreeClassifier\n",
    "\n",
    "from sklearn.decomposition import PCA\n",
    "from sklearn.metrics import accuracy_score\n",
    "from sklearn.model_selection import cross_val_score\n",
    "from sklearn.model_selection import GridSearchCV\n",
    "from sklearn.model_selection import train_test_split\n",
    "import matplotlib.pyplot as plt"
   ]
  },
  {
   "cell_type": "code",
   "execution_count": 39,
   "metadata": {
    "scrolled": true
   },
   "outputs": [
    {
     "name": "stderr",
     "output_type": "stream",
     "text": [
      "C:\\Users\\gerar\\AppData\\Local\\Temp\\ipykernel_16592\\3124692718.py:15: FutureWarning: The 'delim_whitespace' keyword in pd.read_csv is deprecated and will be removed in a future version. Use ``sep='\\s+'`` instead\n",
      "  labels = pd.read_csv(filename_labels, delim_whitespace=True, header=None, names=['cod_label', 'label'])\n",
      "C:\\Users\\gerar\\AppData\\Local\\Temp\\ipykernel_16592\\3124692718.py:18: FutureWarning: The 'delim_whitespace' keyword in pd.read_csv is deprecated and will be removed in a future version. Use ``sep='\\s+'`` instead\n",
      "  X_train = pd.read_csv(filename_xtrain, delim_whitespace=True, header=None, names=Names)\n",
      "C:\\Users\\gerar\\AppData\\Local\\Temp\\ipykernel_16592\\3124692718.py:23: FutureWarning: The 'delim_whitespace' keyword in pd.read_csv is deprecated and will be removed in a future version. Use ``sep='\\s+'`` instead\n",
      "  X_test = pd.read_csv(ffilename_xtest, delim_whitespace=True, header=None, names=Names)\n"
     ]
    }
   ],
   "source": [
    "\n",
    "\n",
    "\n",
    "filename_features = r\"C:\\Users\\gerar\\aula dados\\aula1\\human+activity+recognition+using+smartphones\\UCI HAR Dataset\\UCI HAR Dataset\\features_info.txt\"\n",
    "\n",
    "filename_labels =r\"C:\\Users\\gerar\\aula dados\\aula1\\human+activity+recognition+using+smartphones\\UCI HAR Dataset\\UCI HAR Dataset\\activity_labels.txt\"\n",
    "\n",
    "filename_subtrain = r\"C:\\Users\\gerar\\aula dados\\aula1\\human+activity+recognition+using+smartphones\\UCI HAR Dataset\\UCI HAR Dataset\\train\\subject_train.txt\"\n",
    "filename_xtrain = r\"C:\\Users\\gerar\\aula dados\\aula1\\human+activity+recognition+using+smartphones\\UCI HAR Dataset\\UCI HAR Dataset\\train\\X_train.txt\"\n",
    "filename_ytrain = r\"C:\\Users\\gerar\\aula dados\\aula1\\human+activity+recognition+using+smartphones\\UCI HAR Dataset\\UCI HAR Dataset\\train\\y_train.txt\"\n",
    "\n",
    "filename_subtest = r\"C:\\Users\\gerar\\aula dados\\aula1\\human+activity+recognition+using+smartphones\\UCI HAR Dataset\\UCI HAR Dataset\\test\\subject_test.txt\"\n",
    "ffilename_xtest = r\"C:\\Users\\gerar\\aula dados\\aula1\\human+activity+recognition+using+smartphones\\UCI HAR Dataset\\UCI HAR Dataset\\test\\X_test.txt\"\n",
    "filename_ytest = r\"C:\\Users\\gerar\\aula dados\\aula1\\human+activity+recognition+using+smartphones\\UCI HAR Dataset\\UCI HAR Dataset\\test\\y_test.txt\"\n",
    "\n",
    "features = pd.read_csv(filename_features, header=None, names=['nome_var'], sep=\"#\")\n",
    "Names = features['nome_var'].tolist() \n",
    "labels = pd.read_csv(filename_labels, delim_whitespace=True, header=None, names=['cod_label', 'label'])\n",
    "\n",
    "subject_train = pd.read_csv(filename_subtrain, header=None, names=['subject_id'], )\n",
    "X_train = pd.read_csv(filename_xtrain, delim_whitespace=True, header=None, names=Names)\n",
    "\n",
    "y_train = pd.read_csv(filename_ytrain, header=None, names=['cod_label'])\n",
    "\n",
    "subject_test = pd.read_csv(filename_subtest, header=None, names=['subject_id'],)\n",
    "X_test = pd.read_csv(ffilename_xtest, delim_whitespace=True, header=None, names=Names)\n",
    "y_test = pd.read_csv(filename_ytest, header=None, names=['cod_label'])"
   ]
  },
  {
   "cell_type": "code",
   "execution_count": 40,
   "metadata": {},
   "outputs": [],
   "source": [
    "#X_train, X_valid, y_train, y_valid = train_test_split(X_train, y_train)"
   ]
  },
  {
   "cell_type": "markdown",
   "metadata": {},
   "source": [
    "## Árvore de decisão\n",
    "\n",
    "Rode uma árvore de decisão com todas as variáveis, utilizando o ```ccp_alpha=0.001```. Avalie a acurácia nas bases de treinamento e teste. Avalie o tempo de processamento."
   ]
  },
  {
   "cell_type": "code",
   "execution_count": 41,
   "metadata": {},
   "outputs": [
    {
     "name": "stdout",
     "output_type": "stream",
     "text": [
      "0.9390642002176278\n",
      "0.8031896844248388\n",
      "CPU times: total: 609 ms\n",
      "Wall time: 611 ms\n"
     ]
    }
   ],
   "source": [
    "%%time\n",
    "clf = DecisionTreeClassifier(random_state=1234, ccp_alpha=0.001).fit(X_train, y_train)\n",
    "\n",
    "train_scores = clf.score(X_train, y_train)\n",
    "#valid_scores = clf.score(X_valid, y_valid)\n",
    "test_scores = clf.score(X_test, y_test)\n",
    "print(train_scores)\n",
    "print(test_scores)"
   ]
  },
  {
   "cell_type": "markdown",
   "metadata": {},
   "source": [
    "## Árvore com PCA\n",
    "\n",
    "Faça uma análise de componemtes principais das variáveis originais. Utilize apenas uma componente. Faça uma árvore de decisão com esta componente como variável explicativa.\n",
    "\n",
    "- Avalie a acurácia nas bases de treinamento e teste\n",
    "- Avalie o tempo de processamento"
   ]
  },
  {
   "cell_type": "code",
   "execution_count": null,
   "metadata": {},
   "outputs": [],
   "source": [
    "list = None"
   ]
  },
  {
   "cell_type": "code",
   "execution_count": 75,
   "metadata": {},
   "outputs": [
    {
     "name": "stdout",
     "output_type": "stream",
     "text": [
      "0.8533732317736671\n",
      "0.7295554801493044\n",
      "CPU times: total: 1.14 s\n",
      "Wall time: 1.04 s\n"
     ]
    }
   ],
   "source": [
    "%%time\n",
    "\n",
    "prcomp = PCA().fit(X_train)\n",
    "\n",
    "pc_trein= prcomp.transform(X_train)\n",
    "pc_test= prcomp.transform(X_test)\n",
    "\n",
    "n=49\n",
    "\n",
    "colunas = ['cp'+str(x+1) for x in range(n)]\n",
    "\n",
    "pc_train = pd.DataFrame(pc_trein[:,:n], columns = colunas)\n",
    "pc_test  = pd.DataFrame( pc_test[:,:n], columns = colunas)\n",
    "\n",
    "\n",
    "\n",
    "clf = DecisionTreeClassifier(random_state=1234, ccp_alpha=0.001).fit(pc_train, y_train)\n",
    "\n",
    "train_scores = clf.score(pc_train, y_train)\n",
    "#valid_scores = clf.score(X_valid, y_valid)\n",
    "test_scores = clf.score(pc_test, y_test)\n",
    "print(train_scores)\n",
    "print(test_scores)\n",
    "\n"
   ]
  },
  {
   "cell_type": "markdown",
   "metadata": {},
   "source": [
    "## Testando o número de componentes\n",
    "\n",
    "Com base no código acima, teste a árvore de classificação com pelo menos as seguintes possibilidades de quantidades de componentes: ```[1, 2, 5, 10, 50]```. Avalie para cada uma delas:\n",
    "\n",
    "- Acurácia nas bases de treino e teste\n",
    "- Tempo de processamento\n"
   ]
  },
  {
   "cell_type": "markdown",
   "metadata": {},
   "source": [
    "# teste n=1 \n",
    ">> score treino 53%\n",
    ">> score teste 50%\n",
    ">> wall time 145ms\n",
    "# teste n=2\n",
    ">> score treino 56%\n",
    ">> score teste 52%\n",
    ">> wall time 477ms\n",
    "# teste n=5\n",
    ">> score treino 77%\n",
    ">> score teste 71%\n",
    ">> wall time 319ms\n",
    "# teste n=10\n",
    ">> score treino 78%\n",
    ">> score teste 72%\n",
    ">> wall time 370ms\n",
    "# teste n=49\n",
    ">> score treino 85%\n",
    ">> score teste 72%\n",
    ">> wall time 1,04 s"
   ]
  },
  {
   "cell_type": "markdown",
   "metadata": {},
   "source": [
    "## Conclua\n",
    "\n",
    "- O que aconteceu com a acurácia?\n",
    "- O que aconteceu com o tempo de processamento?"
   ]
  },
  {
   "cell_type": "markdown",
   "metadata": {},
   "source": [
    ">> acuracia aumentou na base de treino, e tambem na base de teste\n",
    ">> tempo de processamento foi gradativamente subindo."
   ]
  },
  {
   "cell_type": "code",
   "execution_count": null,
   "metadata": {},
   "outputs": [],
   "source": []
  }
 ],
 "metadata": {
  "kernelspec": {
   "display_name": "Python 3 (ipykernel)",
   "language": "python",
   "name": "python3"
  },
  "language_info": {
   "codemirror_mode": {
    "name": "ipython",
    "version": 3
   },
   "file_extension": ".py",
   "mimetype": "text/x-python",
   "name": "python",
   "nbconvert_exporter": "python",
   "pygments_lexer": "ipython3",
   "version": "3.12.4"
  },
  "toc": {
   "base_numbering": 1,
   "nav_menu": {},
   "number_sections": true,
   "sideBar": true,
   "skip_h1_title": true,
   "title_cell": "Índice",
   "title_sidebar": "Conteúdo",
   "toc_cell": false,
   "toc_position": {},
   "toc_section_display": true,
   "toc_window_display": false
  },
  "varInspector": {
   "cols": {
    "lenName": 16,
    "lenType": 16,
    "lenVar": 40
   },
   "kernels_config": {
    "python": {
     "delete_cmd_postfix": "",
     "delete_cmd_prefix": "del ",
     "library": "var_list.py",
     "varRefreshCmd": "print(var_dic_list())"
    },
    "r": {
     "delete_cmd_postfix": ") ",
     "delete_cmd_prefix": "rm(",
     "library": "var_list.r",
     "varRefreshCmd": "cat(var_dic_list()) "
    }
   },
   "types_to_exclude": [
    "module",
    "function",
    "builtin_function_or_method",
    "instance",
    "_Feature"
   ],
   "window_display": false
  }
 },
 "nbformat": 4,
 "nbformat_minor": 4
}
